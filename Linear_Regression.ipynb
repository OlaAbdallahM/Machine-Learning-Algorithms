{
  "cells": [
    {
      "cell_type": "code",
      "execution_count": 1,
      "id": "excellent-jamaica",
      "metadata": {
        "colab": {
          "base_uri": "https://localhost:8080/",
          "height": 265
        },
        "id": "excellent-jamaica",
        "outputId": "aeb595dd-7781-4749-b3cb-d08691bfa379"
      },
      "outputs": [
        {
          "output_type": "display_data",
          "data": {
            "image/png": "[encoded data removed]",
            "text/plain": [
              "<Figure size 432x288 with 1 Axes>"
            ]
          },
          "metadata": {
            "needs_background": "light"
          }
        }
      ],
      "source": [
        "import matplotlib.pyplot as plt \n",
        "\n",
        "X=[5,7,8,7,2,17,2,9,4,11,12,9,6]\n",
        "y=[99,86,87,88,111,86,103,87,94,78,77,85,86]\n",
        "\n",
        "plt.scatter(X,y)\n",
        "plt.show()"
      ]
    },
    {
      "cell_type": "markdown",
      "id": "standing-birmingham",
      "metadata": {
        "id": "standing-birmingham"
      },
      "source": [
        "# Linear Regression "
      ]
    },
    {
      "cell_type": "markdown",
      "id": "excess-brisbane",
      "metadata": {
        "id": "excess-brisbane"
      },
      "source": [
        "y= w x +b"
      ]
    },
    {
      "cell_type": "code",
      "execution_count": 2,
      "id": "breathing-facial",
      "metadata": {
        "id": "breathing-facial"
      },
      "outputs": [],
      "source": [
        "def hypothesis(X,w,b):\n",
        "    y_pred=[]\n",
        "    for i in range(len(X)):\n",
        "        y_pred.append(w*X[i]+b)\n",
        "    return y_pred\n",
        "\n",
        "def cost_func(y,y_pred):\n",
        "    cost=0.0\n",
        "    for i in range(len(y)):\n",
        "        cost+=float((y[i]-y_pred[i])**2)\n",
        "    cost=cost/float(len(y))\n",
        "    return cost \n",
        "\n",
        "\n",
        "def calc_gradient_w(y,y_pred,X):\n",
        "    gradient=0\n",
        "    for i in range(len(y)):\n",
        "        gradient+=(y[i]-y_pred[i])*X[i]\n",
        "    gradient=gradient*2/(len(y))\n",
        "    return gradient\n",
        "\n",
        "def calc_gradient_b(y,y_pred):\n",
        "    gradient=0\n",
        "    for i in range(len(y)):\n",
        "        gradient+=(y[i]-y_pred[i])\n",
        "    gradient=gradient*2/len(y)\n",
        "    return gradient\n",
        "\n",
        "\n",
        "def GradientDecsent(X,alpha,y,y_pred,w,b):\n",
        "    w=w-alpha*calc_gradient_w(y,y_pred,X)\n",
        "    b=b-alpha*calc_gradient_b(y,y_pred)\n",
        "    return w,b \n",
        "\n",
        "\n",
        "## Training \n",
        "# initalize random weights \n",
        "w=-2\n",
        "b=100\n",
        "for i in range(4):\n",
        "    y_pred=hypothesis(X,w,b)\n",
        "    cost1=cost_func(y,y_pred)\n",
        "    w,b=GradientDecsent(X,0.0001,y,y_pred,w,b)\n",
        "\n"
      ]
    },
    {
      "cell_type": "code",
      "execution_count": 3,
      "id": "successful-volleyball",
      "metadata": {
        "colab": {
          "base_uri": "https://localhost:8080/"
        },
        "id": "successful-volleyball",
        "outputId": "5f08bd6b-7368-43fb-b02d-db2b92e47664"
      },
      "outputs": [
        {
          "output_type": "stream",
          "name": "stdout",
          "text": [
            "-2.0344263262979543 99.99592111414998\n"
          ]
        }
      ],
      "source": [
        "print(w,b)"
      ]
    },
    {
      "cell_type": "code",
      "execution_count": 4,
      "id": "angry-correspondence",
      "metadata": {
        "id": "angry-correspondence"
      },
      "outputs": [],
      "source": [
        "def prediction(X):\n",
        "    y_pred=[]\n",
        "    for i in range(len(X)):\n",
        "        y_pred.append(w*X[i]+b)\n",
        "    return y_pred"
      ]
    },
    {
      "cell_type": "code",
      "execution_count": 5,
      "id": "superb-laundry",
      "metadata": {
        "id": "superb-laundry"
      },
      "outputs": [],
      "source": [
        "y_pred=prediction(X)"
      ]
    },
    {
      "cell_type": "code",
      "execution_count": 6,
      "id": "adequate-dealing",
      "metadata": {
        "colab": {
          "base_uri": "https://localhost:8080/"
        },
        "id": "adequate-dealing",
        "outputId": "2af8a45a-92d5-4e9a-a947-cab8db6a06e8"
      },
      "outputs": [
        {
          "output_type": "execute_result",
          "data": {
            "text/plain": [
              "65.4124612588406"
            ]
          },
          "metadata": {},
          "execution_count": 6
        }
      ],
      "source": [
        "cost_func(y,y_pred)"
      ]
    },
    {
      "cell_type": "code",
      "execution_count": 7,
      "id": "bigger-palestine",
      "metadata": {
        "colab": {
          "base_uri": "https://localhost:8080/",
          "height": 279
        },
        "id": "bigger-palestine",
        "outputId": "d92320c0-8d5d-43f6-9dff-ec7dbfbdd07b"
      },
      "outputs": [
        {
          "output_type": "display_data",
          "data": {
            "image/png": "[encoded data removed]",
            "text/plain": [
              "<Figure size 432x288 with 1 Axes>"
            ]
          },
          "metadata": {
            "needs_background": "light"
          }
        }
      ],
      "source": [
        "plt.scatter(X,y)\n",
        "plt.plot(X,y_pred)\n",
        "plt.xlabel(\"X\")\n",
        "plt.ylabel('Y')\n",
        "plt.show()"
      ]
    },
    {
      "cell_type": "markdown",
      "id": "breeding-martin",
      "metadata": {
        "id": "breeding-martin"
      },
      "source": [
        "## Linear Regression with multiple variable"
      ]
    },
    {
      "cell_type": "code",
      "execution_count": 8,
      "id": "convertible-hormone",
      "metadata": {
        "id": "convertible-hormone"
      },
      "outputs": [],
      "source": [
        "import pandas as pd"
      ]
    },
    {
      "cell_type": "code",
      "execution_count": 9,
      "id": "phantom-title",
      "metadata": {
        "colab": {
          "base_uri": "https://localhost:8080/",
          "height": 206
        },
        "id": "phantom-title",
        "outputId": "e596b471-416b-46b7-abf0-40411b9cd06d"
      },
      "outputs": [
        {
          "output_type": "execute_result",
          "data": {
            "text/html": [
              "\n",
              "  <div id=\"df-d12f5ec4-dc4b-491c-bd15-b7ba767e7ea7\">\n",
              "    <div class=\"colab-df-container\">\n",
              "      <div>\n",
              "<style scoped>\n",
              "    .dataframe tbody tr th:only-of-type {\n",
              "        vertical-align: middle;\n",
              "    }\n",
              "\n",
              "    .dataframe tbody tr th {\n",
              "        vertical-align: top;\n",
              "    }\n",
              "\n",
              "    .dataframe thead th {\n",
              "        text-align: right;\n",
              "    }\n",
              "</style>\n",
              "<table border=\"1\" class=\"dataframe\">\n",
              "  <thead>\n",
              "    <tr style=\"text-align: right;\">\n",
              "      <th></th>\n",
              "      <th>Car</th>\n",
              "      <th>Model</th>\n",
              "      <th>Volume</th>\n",
              "      <th>Weight</th>\n",
              "      <th>CO2</th>\n",
              "    </tr>\n",
              "  </thead>\n",
              "  <tbody>\n",
              "    <tr>\n",
              "      <th>0</th>\n",
              "      <td>Toyota</td>\n",
              "      <td>Aygo</td>\n",
              "      <td>1000</td>\n",
              "      <td>790</td>\n",
              "      <td>99</td>\n",
              "    </tr>\n",
              "    <tr>\n",
              "      <th>1</th>\n",
              "      <td>Mitsubishi</td>\n",
              "      <td>Space Star</td>\n",
              "      <td>1200</td>\n",
              "      <td>1160</td>\n",
              "      <td>95</td>\n",
              "    </tr>\n",
              "    <tr>\n",
              "      <th>2</th>\n",
              "      <td>Skoda</td>\n",
              "      <td>Citigo</td>\n",
              "      <td>1000</td>\n",
              "      <td>929</td>\n",
              "      <td>95</td>\n",
              "    </tr>\n",
              "    <tr>\n",
              "      <th>3</th>\n",
              "      <td>Fiat</td>\n",
              "      <td>500</td>\n",
              "      <td>900</td>\n",
              "      <td>865</td>\n",
              "      <td>90</td>\n",
              "    </tr>\n",
              "    <tr>\n",
              "      <th>4</th>\n",
              "      <td>Mini</td>\n",
              "      <td>Cooper</td>\n",
              "      <td>1500</td>\n",
              "      <td>1140</td>\n",
              "      <td>105</td>\n",
              "    </tr>\n",
              "  </tbody>\n",
              "</table>\n",
              "</div>\n",
              "      <button class=\"colab-df-convert\" onclick=\"convertToInteractive('df-d12f5ec4-dc4b-491c-bd15-b7ba767e7ea7')\"\n",
              "              title=\"Convert this dataframe to an interactive table.\"\n",
              "              style=\"display:none;\">\n",
              "        \n",
              "  <svg xmlns=\"http://www.w3.org/2000/svg\" height=\"24px\"viewBox=\"0 0 24 24\"\n",
              "       width=\"24px\">\n",
              "    <path d=\"M0 0h24v24H0V0z\" fill=\"none\"/>\n",
              "    <path d=\"M18.56 5.44l.94 2.06.94-2.06 2.06-.94-2.06-.94-.94-2.06-.94 2.06-2.06.94zm-11 1L8.5 8.5l.94-2.06 2.06-.94-2.06-.94L8.5 2.5l-.94 2.06-2.06.94zm10 10l.94 2.06.94-2.06 2.06-.94-2.06-.94-.94-2.06-.94 2.06-2.06.94z\"/><path d=\"M17.41 7.96l-1.37-1.37c-.4-.4-.92-.59-1.43-.59-.52 0-1.04.2-1.43.59L10.3 9.45l-7.72 7.72c-.78.78-.78 2.05 0 2.83L4 21.41c.39.39.9.59 1.41.59.51 0 1.02-.2 1.41-.59l7.78-7.78 2.81-2.81c.8-.78.8-2.07 0-2.86zM5.41 20L4 18.59l7.72-7.72 1.47 1.35L5.41 20z\"/>\n",
              "  </svg>\n",
              "      </button>\n",
              "      \n",
              "  <style>\n",
              "    .colab-df-container {\n",
              "      display:flex;\n",
              "      flex-wrap:wrap;\n",
              "      gap: 12px;\n",
              "    }\n",
              "\n",
              "    .colab-df-convert {\n",
              "      background-color: #E8F0FE;\n",
              "      border: none;\n",
              "      border-radius: 50%;\n",
              "      cursor: pointer;\n",
              "      display: none;\n",
              "      fill: #1967D2;\n",
              "      height: 32px;\n",
              "      padding: 0 0 0 0;\n",
              "      width: 32px;\n",
              "    }\n",
              "\n",
              "    .colab-df-convert:hover {\n",
              "      background-color: #E2EBFA;\n",
              "      box-shadow: 0px 1px 2px rgba(60, 64, 67, 0.3), 0px 1px 3px 1px rgba(60, 64, 67, 0.15);\n",
              "      fill: #174EA6;\n",
              "    }\n",
              "\n",
              "    [theme=dark] .colab-df-convert {\n",
              "      background-color: #3B4455;\n",
              "      fill: #D2E3FC;\n",
              "    }\n",
              "\n",
              "    [theme=dark] .colab-df-convert:hover {\n",
              "      background-color: #434B5C;\n",
              "      box-shadow: 0px 1px 3px 1px rgba(0, 0, 0, 0.15);\n",
              "      filter: drop-shadow(0px 1px 2px rgba(0, 0, 0, 0.3));\n",
              "      fill: #FFFFFF;\n",
              "    }\n",
              "  </style>\n",
              "\n",
              "      <script>\n",
              "        const buttonEl =\n",
              "          document.querySelector('#df-d12f5ec4-dc4b-491c-bd15-b7ba767e7ea7 button.colab-df-convert');\n",
              "        buttonEl.style.display =\n",
              "          google.colab.kernel.accessAllowed ? 'block' : 'none';\n",
              "\n",
              "        async function convertToInteractive(key) {\n",
              "          const element = document.querySelector('#df-d12f5ec4-dc4b-491c-bd15-b7ba767e7ea7');\n",
              "          const dataTable =\n",
              "            await google.colab.kernel.invokeFunction('convertToInteractive',\n",
              "                                                     [key], {});\n",
              "          if (!dataTable) return;\n",
              "\n",
              "          const docLinkHtml = 'Like what you see? Visit the ' +\n",
              "            '<a target=\"_blank\" href=https://colab.research.google.com/notebooks/data_table.ipynb>data table notebook</a>'\n",
              "            + ' to learn more about interactive tables.';\n",
              "          element.innerHTML = '';\n",
              "          dataTable['output_type'] = 'display_data';\n",
              "          await google.colab.output.renderOutput(dataTable, element);\n",
              "          const docLink = document.createElement('div');\n",
              "          docLink.innerHTML = docLinkHtml;\n",
              "          element.appendChild(docLink);\n",
              "        }\n",
              "      </script>\n",
              "    </div>\n",
              "  </div>\n",
              "  "
            ],
            "text/plain": [
              "          Car       Model  Volume  Weight  CO2\n",
              "0      Toyota        Aygo    1000     790   99\n",
              "1  Mitsubishi  Space Star    1200    1160   95\n",
              "2       Skoda      Citigo    1000     929   95\n",
              "3        Fiat         500     900     865   90\n",
              "4        Mini      Cooper    1500    1140  105"
            ]
          },
          "metadata": {},
          "execution_count": 9
        }
      ],
      "source": [
        "data=pd.read_excel('cars.xlsx')\n",
        "data.head()"
      ]
    },
    {
      "cell_type": "code",
      "execution_count": 10,
      "id": "cordless-affiliation",
      "metadata": {
        "id": "cordless-affiliation"
      },
      "outputs": [],
      "source": [
        "X=data.iloc[:,2:-1].values     # volume ,weight\n",
        "y=data.iloc[:,-1].values      #co2"
      ]
    },
    {
      "cell_type": "code",
      "execution_count": 11,
      "id": "harmful-luxury",
      "metadata": {
        "colab": {
          "base_uri": "https://localhost:8080/"
        },
        "id": "harmful-luxury",
        "outputId": "fc6bb26a-2c8c-4f53-fb82-5de44b6d7f3e"
      },
      "outputs": [
        {
          "output_type": "execute_result",
          "data": {
            "text/plain": [
              "array([[1000,  790],\n",
              "       [1200, 1160],\n",
              "       [1000,  929],\n",
              "       [ 900,  865],\n",
              "       [1500, 1140],\n",
              "       [1000,  929],\n",
              "       [1400, 1109],\n",
              "       [1500, 1365],\n",
              "       [1500, 1112],\n",
              "       [1600, 1150],\n",
              "       [1100,  980],\n",
              "       [1300,  990],\n",
              "       [1000, 1112],\n",
              "       [1600, 1252],\n",
              "       [1600, 1326],\n",
              "       [1600, 1330],\n",
              "       [1600, 1365],\n",
              "       [2200, 1280],\n",
              "       [1600, 1119],\n",
              "       [2000, 1328],\n",
              "       [1600, 1584],\n",
              "       [2000, 1428],\n",
              "       [2100, 1365],\n",
              "       [1600, 1415],\n",
              "       [2000, 1415],\n",
              "       [1500, 1465],\n",
              "       [2000, 1490],\n",
              "       [2000, 1725],\n",
              "       [1600, 1523],\n",
              "       [2000, 1705],\n",
              "       [2100, 1605],\n",
              "       [2000, 1746],\n",
              "       [1600, 1235],\n",
              "       [1600, 1390],\n",
              "       [1600, 1405],\n",
              "       [2500, 1395]])"
            ]
          },
          "metadata": {},
          "execution_count": 11
        }
      ],
      "source": [
        "X"
      ]
    },
    {
      "cell_type": "code",
      "execution_count": 12,
      "id": "about-encounter",
      "metadata": {
        "id": "about-encounter"
      },
      "outputs": [],
      "source": [
        "from sklearn.linear_model import LinearRegression \n",
        "model=LinearRegression()"
      ]
    },
    {
      "cell_type": "code",
      "execution_count": 13,
      "id": "lyric-election",
      "metadata": {
        "colab": {
          "base_uri": "https://localhost:8080/"
        },
        "id": "lyric-election",
        "outputId": "44426fa0-80ab-4596-b268-b9dfb059695b"
      },
      "outputs": [
        {
          "output_type": "execute_result",
          "data": {
            "text/plain": [
              "LinearRegression()"
            ]
          },
          "metadata": {},
          "execution_count": 13
        }
      ],
      "source": [
        "model.fit(X,y)"
      ]
    },
    {
      "cell_type": "code",
      "execution_count": 14,
      "id": "confused-citizenship",
      "metadata": {
        "colab": {
          "base_uri": "https://localhost:8080/"
        },
        "id": "confused-citizenship",
        "outputId": "cbd1d08e-12e9-45d1-abe7-7d47d72c8d77"
      },
      "outputs": [
        {
          "output_type": "execute_result",
          "data": {
            "text/plain": [
              "array([0.00780526, 0.00755095])"
            ]
          },
          "metadata": {},
          "execution_count": 14
        }
      ],
      "source": [
        "model.coef_"
      ]
    },
    {
      "cell_type": "code",
      "execution_count": 15,
      "id": "distinct-elite",
      "metadata": {
        "colab": {
          "base_uri": "https://localhost:8080/"
        },
        "id": "distinct-elite",
        "outputId": "beae8614-3ee1-4fb7-be86-e18285dae8eb"
      },
      "outputs": [
        {
          "output_type": "execute_result",
          "data": {
            "text/plain": [
              "79.69471929115939"
            ]
          },
          "metadata": {},
          "execution_count": 15
        }
      ],
      "source": [
        "model.intercept_"
      ]
    },
    {
      "cell_type": "code",
      "execution_count": 16,
      "id": "billion-shadow",
      "metadata": {
        "id": "billion-shadow"
      },
      "outputs": [],
      "source": [
        "prediction=model.predict([[2300,2000]])"
      ]
    },
    {
      "cell_type": "code",
      "execution_count": 17,
      "id": "failing-domain",
      "metadata": {
        "colab": {
          "base_uri": "https://localhost:8080/"
        },
        "id": "failing-domain",
        "outputId": "e0a16bba-5242-4eb0-80be-c91c01704f24"
      },
      "outputs": [
        {
          "output_type": "execute_result",
          "data": {
            "text/plain": [
              "array([112.74870615])"
            ]
          },
          "metadata": {},
          "execution_count": 17
        }
      ],
      "source": [
        "prediction"
      ]
    },
    {
      "cell_type": "markdown",
      "id": "allied-concert",
      "metadata": {
        "id": "allied-concert"
      },
      "source": [
        "## Boston DataSet "
      ]
    },
    {
      "cell_type": "code",
      "execution_count": 18,
      "id": "residential-captain",
      "metadata": {
        "colab": {
          "base_uri": "https://localhost:8080/"
        },
        "id": "residential-captain",
        "outputId": "ba3f4899-f931-4f7e-d911-6d8a7c8b2087"
      },
      "outputs": [
        {
          "output_type": "stream",
          "name": "stderr",
          "text": [
            "/usr/local/lib/python3.7/dist-packages/sklearn/utils/deprecation.py:87: FutureWarning: Function load_boston is deprecated; `load_boston` is deprecated in 1.0 and will be removed in 1.2.\n",
            "\n",
            "    The Boston housing prices dataset has an ethical problem. You can refer to\n",
            "    the documentation of this function for further details.\n",
            "\n",
            "    The scikit-learn maintainers therefore strongly discourage the use of this\n",
            "    dataset unless the purpose of the code is to study and educate about\n",
            "    ethical issues in data science and machine learning.\n",
            "\n",
            "    In this special case, you can fetch the dataset from the original\n",
            "    source::\n",
            "\n",
            "        import pandas as pd\n",
            "        import numpy as np\n",
            "\n",
            "\n",
            "        data_url = \"http://lib.stat.cmu.edu/datasets/boston\"\n",
            "        raw_df = pd.read_csv(data_url, sep=\"\\s+\", skiprows=22, header=None)\n",
            "        data = np.hstack([raw_df.values[::2, :], raw_df.values[1::2, :2]])\n",
            "        target = raw_df.values[1::2, 2]\n",
            "\n",
            "    Alternative datasets include the California housing dataset (i.e.\n",
            "    :func:`~sklearn.datasets.fetch_california_housing`) and the Ames housing\n",
            "    dataset. You can load the datasets as follows::\n",
            "\n",
            "        from sklearn.datasets import fetch_california_housing\n",
            "        housing = fetch_california_housing()\n",
            "\n",
            "    for the California housing dataset and::\n",
            "\n",
            "        from sklearn.datasets import fetch_openml\n",
            "        housing = fetch_openml(name=\"house_prices\", as_frame=True)\n",
            "\n",
            "    for the Ames housing dataset.\n",
            "    \n",
            "  warnings.warn(msg, category=FutureWarning)\n"
          ]
        }
      ],
      "source": [
        "from sklearn.datasets import load_boston\n",
        "dataset=load_boston()"
      ]
    },
    {
      "cell_type": "code",
      "execution_count": 19,
      "id": "orange-africa",
      "metadata": {
        "colab": {
          "base_uri": "https://localhost:8080/"
        },
        "id": "orange-africa",
        "outputId": "4f62d68b-a8a2-416a-c61d-395f0774c8c9"
      },
      "outputs": [
        {
          "output_type": "stream",
          "name": "stdout",
          "text": [
            "dict_keys(['data', 'target', 'feature_names', 'DESCR', 'filename', 'data_module'])\n"
          ]
        }
      ],
      "source": [
        "print(dataset.keys())"
      ]
    },
    {
      "cell_type": "code",
      "execution_count": 20,
      "id": "defined-delhi",
      "metadata": {
        "colab": {
          "base_uri": "https://localhost:8080/"
        },
        "id": "defined-delhi",
        "outputId": "66d2ed47-18da-4a93-d0d1-39e1e17a8aa4"
      },
      "outputs": [
        {
          "output_type": "execute_result",
          "data": {
            "text/plain": [
              "['.. _boston_dataset:',\n",
              " '',\n",
              " 'Boston house prices dataset',\n",
              " '---------------------------',\n",
              " '',\n",
              " '**Data Set Characteristics:**  ',\n",
              " '',\n",
              " '    :Number of Instances: 506 ',\n",
              " '',\n",
              " '    :Number of Attributes: 13 numeric/categorical predictive. Median Value (attribute 14) is usually the target.',\n",
              " '',\n",
              " '    :Attribute Information (in order):',\n",
              " '        - CRIM     per capita crime rate by town',\n",
              " '        - ZN       proportion of residential land zoned for lots over 25,000 sq.ft.',\n",
              " '        - INDUS    proportion of non-retail business acres per town',\n",
              " '        - CHAS     Charles River dummy variable (= 1 if tract bounds river; 0 otherwise)',\n",
              " '        - NOX      nitric oxides concentration (parts per 10 million)',\n",
              " '        - RM       average number of rooms per dwelling',\n",
              " '        - AGE      proportion of owner-occupied units built prior to 1940',\n",
              " '        - DIS      weighted distances to five Boston employment centres',\n",
              " '        - RAD      index of accessibility to radial highways',\n",
              " '        - TAX      full-value property-tax rate per $10,000',\n",
              " '        - PTRATIO  pupil-teacher ratio by town',\n",
              " '        - B        1000(Bk - 0.63)^2 where Bk is the proportion of black people by town',\n",
              " '        - LSTAT    % lower status of the population',\n",
              " \"        - MEDV     Median value of owner-occupied homes in $1000's\",\n",
              " '',\n",
              " '    :Missing Attribute Values: None',\n",
              " '',\n",
              " '    :Creator: Harrison, D. and Rubinfeld, D.L.',\n",
              " '',\n",
              " 'This is a copy of UCI ML housing dataset.',\n",
              " 'https://archive.ics.uci.edu/ml/machine-learning-databases/housing/',\n",
              " '',\n",
              " '',\n",
              " 'This dataset was taken from the StatLib library which is maintained at Carnegie Mellon University.',\n",
              " '',\n",
              " \"The Boston house-price data of Harrison, D. and Rubinfeld, D.L. 'Hedonic\",\n",
              " \"prices and the demand for clean air', J. Environ. Economics & Management,\",\n",
              " \"vol.5, 81-102, 1978.   Used in Belsley, Kuh & Welsch, 'Regression diagnostics\",\n",
              " \"...', Wiley, 1980.   N.B. Various transformations are used in the table on\",\n",
              " 'pages 244-261 of the latter.',\n",
              " '',\n",
              " 'The Boston house-price data has been used in many machine learning papers that address regression',\n",
              " 'problems.   ',\n",
              " '     ',\n",
              " '.. topic:: References',\n",
              " '',\n",
              " \"   - Belsley, Kuh & Welsch, 'Regression diagnostics: Identifying Influential Data and Sources of Collinearity', Wiley, 1980. 244-261.\",\n",
              " '   - Quinlan,R. (1993). Combining Instance-Based and Model-Based Learning. In Proceedings on the Tenth International Conference of Machine Learning, 236-243, University of Massachusetts, Amherst. Morgan Kaufmann.',\n",
              " '']"
            ]
          },
          "metadata": {},
          "execution_count": 20
        }
      ],
      "source": [
        "dataset.DESCR.split('\\n')"
      ]
    },
    {
      "cell_type": "code",
      "execution_count": 21,
      "id": "painted-agency",
      "metadata": {
        "colab": {
          "base_uri": "https://localhost:8080/",
          "height": 206
        },
        "id": "painted-agency",
        "outputId": "807b1014-3aa8-4319-8ca4-abc59fd334a8"
      },
      "outputs": [
        {
          "output_type": "execute_result",
          "data": {
            "text/html": [
              "\n",
              "  <div id=\"df-4719d536-d260-4b56-8d2d-4789d4b48fb8\">\n",
              "    <div class=\"colab-df-container\">\n",
              "      <div>\n",
              "<style scoped>\n",
              "    .dataframe tbody tr th:only-of-type {\n",
              "        vertical-align: middle;\n",
              "    }\n",
              "\n",
              "    .dataframe tbody tr th {\n",
              "        vertical-align: top;\n",
              "    }\n",
              "\n",
              "    .dataframe thead th {\n",
              "        text-align: right;\n",
              "    }\n",
              "</style>\n",
              "<table border=\"1\" class=\"dataframe\">\n",
              "  <thead>\n",
              "    <tr style=\"text-align: right;\">\n",
              "      <th></th>\n",
              "      <th>CRIM</th>\n",
              "      <th>ZN</th>\n",
              "      <th>INDUS</th>\n",
              "      <th>CHAS</th>\n",
              "      <th>NOX</th>\n",
              "      <th>RM</th>\n",
              "      <th>AGE</th>\n",
              "      <th>DIS</th>\n",
              "      <th>RAD</th>\n",
              "      <th>TAX</th>\n",
              "      <th>PTRATIO</th>\n",
              "      <th>B</th>\n",
              "      <th>LSTAT</th>\n",
              "      <th>target</th>\n",
              "    </tr>\n",
              "  </thead>\n",
              "  <tbody>\n",
              "    <tr>\n",
              "      <th>0</th>\n",
              "      <td>0.00632</td>\n",
              "      <td>18.0</td>\n",
              "      <td>2.31</td>\n",
              "      <td>0.0</td>\n",
              "      <td>0.538</td>\n",
              "      <td>6.575</td>\n",
              "      <td>65.2</td>\n",
              "      <td>4.0900</td>\n",
              "      <td>1.0</td>\n",
              "      <td>296.0</td>\n",
              "      <td>15.3</td>\n",
              "      <td>396.90</td>\n",
              "      <td>4.98</td>\n",
              "      <td>24.0</td>\n",
              "    </tr>\n",
              "    <tr>\n",
              "      <th>1</th>\n",
              "      <td>0.02731</td>\n",
              "      <td>0.0</td>\n",
              "      <td>7.07</td>\n",
              "      <td>0.0</td>\n",
              "      <td>0.469</td>\n",
              "      <td>6.421</td>\n",
              "      <td>78.9</td>\n",
              "      <td>4.9671</td>\n",
              "      <td>2.0</td>\n",
              "      <td>242.0</td>\n",
              "      <td>17.8</td>\n",
              "      <td>396.90</td>\n",
              "      <td>9.14</td>\n",
              "      <td>21.6</td>\n",
              "    </tr>\n",
              "    <tr>\n",
              "      <th>2</th>\n",
              "      <td>0.02729</td>\n",
              "      <td>0.0</td>\n",
              "      <td>7.07</td>\n",
              "      <td>0.0</td>\n",
              "      <td>0.469</td>\n",
              "      <td>7.185</td>\n",
              "      <td>61.1</td>\n",
              "      <td>4.9671</td>\n",
              "      <td>2.0</td>\n",
              "      <td>242.0</td>\n",
              "      <td>17.8</td>\n",
              "      <td>392.83</td>\n",
              "      <td>4.03</td>\n",
              "      <td>34.7</td>\n",
              "    </tr>\n",
              "    <tr>\n",
              "      <th>3</th>\n",
              "      <td>0.03237</td>\n",
              "      <td>0.0</td>\n",
              "      <td>2.18</td>\n",
              "      <td>0.0</td>\n",
              "      <td>0.458</td>\n",
              "      <td>6.998</td>\n",
              "      <td>45.8</td>\n",
              "      <td>6.0622</td>\n",
              "      <td>3.0</td>\n",
              "      <td>222.0</td>\n",
              "      <td>18.7</td>\n",
              "      <td>394.63</td>\n",
              "      <td>2.94</td>\n",
              "      <td>33.4</td>\n",
              "    </tr>\n",
              "    <tr>\n",
              "      <th>4</th>\n",
              "      <td>0.06905</td>\n",
              "      <td>0.0</td>\n",
              "      <td>2.18</td>\n",
              "      <td>0.0</td>\n",
              "      <td>0.458</td>\n",
              "      <td>7.147</td>\n",
              "      <td>54.2</td>\n",
              "      <td>6.0622</td>\n",
              "      <td>3.0</td>\n",
              "      <td>222.0</td>\n",
              "      <td>18.7</td>\n",
              "      <td>396.90</td>\n",
              "      <td>5.33</td>\n",
              "      <td>36.2</td>\n",
              "    </tr>\n",
              "  </tbody>\n",
              "</table>\n",
              "</div>\n",
              "      <button class=\"colab-df-convert\" onclick=\"convertToInteractive('df-4719d536-d260-4b56-8d2d-4789d4b48fb8')\"\n",
              "              title=\"Convert this dataframe to an interactive table.\"\n",
              "              style=\"display:none;\">\n",
              "        \n",
              "  <svg xmlns=\"http://www.w3.org/2000/svg\" height=\"24px\"viewBox=\"0 0 24 24\"\n",
              "       width=\"24px\">\n",
              "    <path d=\"M0 0h24v24H0V0z\" fill=\"none\"/>\n",
              "    <path d=\"M18.56 5.44l.94 2.06.94-2.06 2.06-.94-2.06-.94-.94-2.06-.94 2.06-2.06.94zm-11 1L8.5 8.5l.94-2.06 2.06-.94-2.06-.94L8.5 2.5l-.94 2.06-2.06.94zm10 10l.94 2.06.94-2.06 2.06-.94-2.06-.94-.94-2.06-.94 2.06-2.06.94z\"/><path d=\"M17.41 7.96l-1.37-1.37c-.4-.4-.92-.59-1.43-.59-.52 0-1.04.2-1.43.59L10.3 9.45l-7.72 7.72c-.78.78-.78 2.05 0 2.83L4 21.41c.39.39.9.59 1.41.59.51 0 1.02-.2 1.41-.59l7.78-7.78 2.81-2.81c.8-.78.8-2.07 0-2.86zM5.41 20L4 18.59l7.72-7.72 1.47 1.35L5.41 20z\"/>\n",
              "  </svg>\n",
              "      </button>\n",
              "      \n",
              "  <style>\n",
              "    .colab-df-container {\n",
              "      display:flex;\n",
              "      flex-wrap:wrap;\n",
              "      gap: 12px;\n",
              "    }\n",
              "\n",
              "    .colab-df-convert {\n",
              "      background-color: #E8F0FE;\n",
              "      border: none;\n",
              "      border-radius: 50%;\n",
              "      cursor: pointer;\n",
              "      display: none;\n",
              "      fill: #1967D2;\n",
              "      height: 32px;\n",
              "      padding: 0 0 0 0;\n",
              "      width: 32px;\n",
              "    }\n",
              "\n",
              "    .colab-df-convert:hover {\n",
              "      background-color: #E2EBFA;\n",
              "      box-shadow: 0px 1px 2px rgba(60, 64, 67, 0.3), 0px 1px 3px 1px rgba(60, 64, 67, 0.15);\n",
              "      fill: #174EA6;\n",
              "    }\n",
              "\n",
              "    [theme=dark] .colab-df-convert {\n",
              "      background-color: #3B4455;\n",
              "      fill: #D2E3FC;\n",
              "    }\n",
              "\n",
              "    [theme=dark] .colab-df-convert:hover {\n",
              "      background-color: #434B5C;\n",
              "      box-shadow: 0px 1px 3px 1px rgba(0, 0, 0, 0.15);\n",
              "      filter: drop-shadow(0px 1px 2px rgba(0, 0, 0, 0.3));\n",
              "      fill: #FFFFFF;\n",
              "    }\n",
              "  </style>\n",
              "\n",
              "      <script>\n",
              "        const buttonEl =\n",
              "          document.querySelector('#df-4719d536-d260-4b56-8d2d-4789d4b48fb8 button.colab-df-convert');\n",
              "        buttonEl.style.display =\n",
              "          google.colab.kernel.accessAllowed ? 'block' : 'none';\n",
              "\n",
              "        async function convertToInteractive(key) {\n",
              "          const element = document.querySelector('#df-4719d536-d260-4b56-8d2d-4789d4b48fb8');\n",
              "          const dataTable =\n",
              "            await google.colab.kernel.invokeFunction('convertToInteractive',\n",
              "                                                     [key], {});\n",
              "          if (!dataTable) return;\n",
              "\n",
              "          const docLinkHtml = 'Like what you see? Visit the ' +\n",
              "            '<a target=\"_blank\" href=https://colab.research.google.com/notebooks/data_table.ipynb>data table notebook</a>'\n",
              "            + ' to learn more about interactive tables.';\n",
              "          element.innerHTML = '';\n",
              "          dataTable['output_type'] = 'display_data';\n",
              "          await google.colab.output.renderOutput(dataTable, element);\n",
              "          const docLink = document.createElement('div');\n",
              "          docLink.innerHTML = docLinkHtml;\n",
              "          element.appendChild(docLink);\n",
              "        }\n",
              "      </script>\n",
              "    </div>\n",
              "  </div>\n",
              "  "
            ],
            "text/plain": [
              "      CRIM    ZN  INDUS  CHAS    NOX     RM   AGE     DIS  RAD    TAX  \\\n",
              "0  0.00632  18.0   2.31   0.0  0.538  6.575  65.2  4.0900  1.0  296.0   \n",
              "1  0.02731   0.0   7.07   0.0  0.469  6.421  78.9  4.9671  2.0  242.0   \n",
              "2  0.02729   0.0   7.07   0.0  0.469  7.185  61.1  4.9671  2.0  242.0   \n",
              "3  0.03237   0.0   2.18   0.0  0.458  6.998  45.8  6.0622  3.0  222.0   \n",
              "4  0.06905   0.0   2.18   0.0  0.458  7.147  54.2  6.0622  3.0  222.0   \n",
              "\n",
              "   PTRATIO       B  LSTAT  target  \n",
              "0     15.3  396.90   4.98    24.0  \n",
              "1     17.8  396.90   9.14    21.6  \n",
              "2     17.8  392.83   4.03    34.7  \n",
              "3     18.7  394.63   2.94    33.4  \n",
              "4     18.7  396.90   5.33    36.2  "
            ]
          },
          "metadata": {},
          "execution_count": 21
        }
      ],
      "source": [
        "data=pd.DataFrame(data=dataset.data,columns=dataset.feature_names)\n",
        "data['target']=dataset.target\n",
        "data.head()"
      ]
    },
    {
      "cell_type": "markdown",
      "id": "suited-simpson",
      "metadata": {
        "id": "suited-simpson"
      },
      "source": [
        "Detect Missing value"
      ]
    },
    {
      "cell_type": "code",
      "execution_count": 22,
      "id": "played-pacific",
      "metadata": {
        "colab": {
          "base_uri": "https://localhost:8080/"
        },
        "id": "played-pacific",
        "outputId": "0ff9f7ec-383f-438b-8a77-c882a6df7738"
      },
      "outputs": [
        {
          "output_type": "execute_result",
          "data": {
            "text/plain": [
              "CRIM       0\n",
              "ZN         0\n",
              "INDUS      0\n",
              "CHAS       0\n",
              "NOX        0\n",
              "RM         0\n",
              "AGE        0\n",
              "DIS        0\n",
              "RAD        0\n",
              "TAX        0\n",
              "PTRATIO    0\n",
              "B          0\n",
              "LSTAT      0\n",
              "target     0\n",
              "dtype: int64"
            ]
          },
          "metadata": {},
          "execution_count": 22
        }
      ],
      "source": [
        "data.isnull().sum()"
      ]
    },
    {
      "cell_type": "code",
      "execution_count": 24,
      "id": "linear-malawi",
      "metadata": {
        "id": "linear-malawi"
      },
      "outputs": [],
      "source": [
        "X=data.iloc[:,:-1].values\n",
        "y=data.iloc[:,-1].values"
      ]
    },
    {
      "cell_type": "code",
      "execution_count": 25,
      "id": "domestic-response",
      "metadata": {
        "id": "domestic-response"
      },
      "outputs": [],
      "source": [
        "#split Data to train and test \n",
        "from sklearn.model_selection import train_test_split\n",
        "train_X,test_X,train_y,test_y=train_test_split(X,y,test_size=0.2) #80% train ,20% test \n"
      ]
    },
    {
      "cell_type": "code",
      "execution_count": 26,
      "id": "international-sunday",
      "metadata": {
        "id": "international-sunday"
      },
      "outputs": [],
      "source": [
        "# define Model \n",
        "model=LinearRegression()"
      ]
    },
    {
      "cell_type": "code",
      "execution_count": 27,
      "id": "ceramic-canadian",
      "metadata": {
        "colab": {
          "base_uri": "https://localhost:8080/"
        },
        "id": "ceramic-canadian",
        "outputId": "43d4226f-8165-4991-da56-5734da2b023c"
      },
      "outputs": [
        {
          "output_type": "execute_result",
          "data": {
            "text/plain": [
              "LinearRegression()"
            ]
          },
          "metadata": {},
          "execution_count": 27
        }
      ],
      "source": [
        "#train model\n",
        "model.fit(train_X,train_y)"
      ]
    },
    {
      "cell_type": "markdown",
      "id": "prepared-nursing",
      "metadata": {
        "id": "prepared-nursing"
      },
      "source": [
        "### Model Evaluation "
      ]
    },
    {
      "cell_type": "code",
      "execution_count": 28,
      "id": "empirical-trainer",
      "metadata": {
        "id": "empirical-trainer"
      },
      "outputs": [],
      "source": [
        "y_pred=model.predict(test_X)"
      ]
    },
    {
      "cell_type": "code",
      "execution_count": 29,
      "id": "norman-satin",
      "metadata": {
        "colab": {
          "base_uri": "https://localhost:8080/"
        },
        "id": "norman-satin",
        "outputId": "7a172170-3e0f-4084-f215-1c9e0b140315"
      },
      "outputs": [
        {
          "output_type": "stream",
          "name": "stdout",
          "text": [
            "17.417425590893675\n"
          ]
        }
      ],
      "source": [
        "from sklearn.metrics import mean_squared_error\n",
        "error=mean_squared_error(y_pred,test_y)\n",
        "print(error)"
      ]
    }
  ],
  "metadata": {
    "kernelspec": {
      "display_name": "Python 3 (ipykernel)",
      "language": "python",
      "name": "python3"
    },
    "language_info": {
      "codemirror_mode": {
        "name": "ipython",
        "version": 3
      },
      "file_extension": ".py",
      "mimetype": "text/x-python",
      "name": "python",
      "nbconvert_exporter": "python",
      "pygments_lexer": "ipython3",
      "version": "3.7.0"
    },
    "colab": {
      "name": "Linear-Regression.ipynb",
      "provenance": []
    }
  },
  "nbformat": 4,
  "nbformat_minor": 5
}